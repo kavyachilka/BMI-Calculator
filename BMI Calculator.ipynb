{
 "cells": [
  {
   "cell_type": "code",
   "execution_count": 22,
   "id": "81b4d849",
   "metadata": {},
   "outputs": [
    {
     "name": "stdout",
     "output_type": "stream",
     "text": [
      "Enter your name: Kavya\n",
      "Enter your weight in pounds: 130\n",
      "Enter your height in inches: 44\n",
      "47.20557851239669\n",
      "Kavya, You are morbidly obese\n"
     ]
    }
   ],
   "source": [
    "name = input(\"Enter your name: \")\n",
    "\n",
    "weight = int(input(\"Enter your weight in pounds: \"))\n",
    "\n",
    "height = int(input(\"Enter your height in inches: \"))\n",
    "\n",
    "BMI = (weight * 703) / (height * height)\n",
    "\n",
    "print(BMI)\n",
    "\n",
    "if BMI>0:\n",
    "    if(BMI<18.5):\n",
    "        print(name +\", You are underweight.\")\n",
    "    elif (BMI<=24.9):\n",
    "        print(name +\", You are normal weight.\")\n",
    "    elif (BMI<29.9):\n",
    "        print(name +\", You are overweight. You need to excersise more\")\n",
    "    elif (BMI<34.9):\n",
    "        print(name +\", You are obese.\")\n",
    "    elif (BMI<39.9):\n",
    "        print(name +\", You are severely obese.\")\n",
    "    else:\n",
    "        print(name +\", You are morbidly obese\")"
   ]
  },
  {
   "cell_type": "code",
   "execution_count": 16,
   "id": "0ebbe993",
   "metadata": {},
   "outputs": [
    {
     "ename": "SyntaxError",
     "evalue": "invalid syntax (979924774.py, line 1)",
     "output_type": "error",
     "traceback": [
      "\u001b[1;36m  Cell \u001b[1;32mIn[16], line 1\u001b[1;36m\u001b[0m\n\u001b[1;33m    Under 18.5 ->Underweight -> Minimal\u001b[0m\n\u001b[1;37m          ^\u001b[0m\n\u001b[1;31mSyntaxError\u001b[0m\u001b[1;31m:\u001b[0m invalid syntax\n"
     ]
    }
   ],
   "source": [
    "Under 18.5 ->Underweight -> Minimal\n",
    "\n",
    "18.5 - 24.9 ->Normal Weight -> Minimal\n",
    "\n",
    "25 - 29.9 ->Overweight -> Increased\n",
    "\n",
    "30 - 34.9 ->Obese ->High\n",
    "\n",
    "35 - 39.9 ->Severely Obese -> Very High\n",
    "\n",
    "40 and over ->Morbidly Obese -> Extremely High"
   ]
  },
  {
   "cell_type": "code",
   "execution_count": null,
   "id": "a335057b",
   "metadata": {},
   "outputs": [],
   "source": []
  }
 ],
 "metadata": {
  "kernelspec": {
   "display_name": "Python 3 (ipykernel)",
   "language": "python",
   "name": "python3"
  },
  "language_info": {
   "codemirror_mode": {
    "name": "ipython",
    "version": 3
   },
   "file_extension": ".py",
   "mimetype": "text/x-python",
   "name": "python",
   "nbconvert_exporter": "python",
   "pygments_lexer": "ipython3",
   "version": "3.11.5"
  }
 },
 "nbformat": 4,
 "nbformat_minor": 5
}
